{
 "metadata": {
  "language_info": {
   "codemirror_mode": {
    "name": "ipython",
    "version": 3
   },
   "file_extension": ".py",
   "mimetype": "text/x-python",
   "name": "python",
   "nbconvert_exporter": "python",
   "pygments_lexer": "ipython3",
   "version": "3.8.3-final"
  },
  "orig_nbformat": 2,
  "kernelspec": {
   "name": "python38364bitnlpkor2venv9d064b0babaf4dea8511fea4ea08c8f3",
   "display_name": "Python 3.8.3 64-bit ('nlpkor2': venv)",
   "language": "python"
  }
 },
 "nbformat": 4,
 "nbformat_minor": 2,
 "cells": [
  {
   "cell_type": "markdown",
   "metadata": {},
   "source": [
    "### using textrank to get key sentences"
   ]
  },
  {
   "cell_type": "code",
   "execution_count": 1,
   "metadata": {},
   "outputs": [],
   "source": [
    "# 출력이 너무 길어지지 않게하기 위해 찍지 않도록 했으나 \n",
    "# 실제 학습 할 때는 아래 두 줄을 주석처리 하는 것을 권장한다.\n",
    "import warnings\n",
    "warnings.filterwarnings('ignore')"
   ]
  },
  {
   "cell_type": "code",
   "execution_count": 2,
   "metadata": {
    "tags": []
   },
   "outputs": [
    {
     "output_type": "stream",
     "name": "stdout",
     "text": [
      "1.1.0\n1.18.5\n"
     ]
    }
   ],
   "source": [
    "import pandas as pd\n",
    "import numpy as np\n",
    "print(pd.__version__)\n",
    "print(np.__version__)"
   ]
  },
  {
   "cell_type": "code",
   "execution_count": 3,
   "metadata": {},
   "outputs": [],
   "source": [
    "# pandas 설정: 모든 row와 모든 column을 출력하게 하고, 각 column 별 출력되는 글자수는 50자 이내\n",
    "pd.set_option('display.max_rows', None, 'display.max_columns', None, 'display.max_colwidth', 50)"
   ]
  },
  {
   "cell_type": "code",
   "execution_count": 4,
   "metadata": {},
   "outputs": [
    {
     "output_type": "execute_result",
     "data": {
      "text/plain": [
       "       대학코드                             대학명  \\\n",
       "0  AR000004        Universidad del Salvador   \n",
       "1  AU000019  Australian National University   \n",
       "\n",
       "                                            gen_info  \\\n",
       "0  아르헨티나의 대다수 대학교는 한국처럼 캠퍼스가 있는 것이 아니라 도시 내에 몇개의 ...   \n",
       "1  ANU has a very big campus, but unlike Yonsei, ...   \n",
       "\n",
       "                                            env_info  \\\n",
       "0  대학교가 도시 여러곳에 분포하고 있으므로 각기 다르다. 하지만 남녀를 불문하고 부에...   \n",
       "1  The city center, called CIVIC, is 20min walk a...   \n",
       "\n",
       "                                           food_info  \\\n",
       "0  기숙사는 학교에서 제공하지 않고 두가지 옵션이 주어진다. 홈스테이 혹은 게스트 하우...   \n",
       "1  There are many housing options, but I chose to...   \n",
       "\n",
       "                                          study_info  \\\n",
       "0  아르헨티나에서의 대학 수업은 주로 오전 혹은 저녁에 있다. 대부분의 학생들이 일을하...   \n",
       "1  In my personal opinions, classes are generally...   \n",
       "\n",
       "                                         office_info  \\\n",
       "0  EL SALVADOR대학교는 국제 교육부가 잘 되있는 학교이다. 아르헨티나 대학교들...   \n",
       "1  Overall, I did not have to ask for help much f...   \n",
       "\n",
       "                                          facil_info  \\\n",
       "0  부대시설로는 헬스장이 있다고 알고 있으나 시내와 먼 곳에 있었다. 동아리는 몇가지 ...   \n",
       "1  There were many clubs for you to join at ANU, ...   \n",
       "\n",
       "                                           mhct_info  \\\n",
       "0  딱히 컬쳐쇼크를 받을 만 한 요소는 없었던 것 같다. 하지만 처음에 언어적인 면에서...   \n",
       "1  I did have some culture shock during my first ...   \n",
       "\n",
       "                                           help_info  \\\n",
       "0  살바도르 대학교 국제처에서 비자문제나 숙소문제(홈스테이경우) 등은 해결해 주고, 특...   \n",
       "1  I was helped a lot, especially during the firs...   \n",
       "\n",
       "                                            etc_info  \n",
       "0                                                NaN  \n",
       "1  Overall, my stay in Australia has been nothing...  "
      ],
      "text/html": "<div>\n<style scoped>\n    .dataframe tbody tr th:only-of-type {\n        vertical-align: middle;\n    }\n\n    .dataframe tbody tr th {\n        vertical-align: top;\n    }\n\n    .dataframe thead th {\n        text-align: right;\n    }\n</style>\n<table border=\"1\" class=\"dataframe\">\n  <thead>\n    <tr style=\"text-align: right;\">\n      <th></th>\n      <th>대학코드</th>\n      <th>대학명</th>\n      <th>gen_info</th>\n      <th>env_info</th>\n      <th>food_info</th>\n      <th>study_info</th>\n      <th>office_info</th>\n      <th>facil_info</th>\n      <th>mhct_info</th>\n      <th>help_info</th>\n      <th>etc_info</th>\n    </tr>\n  </thead>\n  <tbody>\n    <tr>\n      <th>0</th>\n      <td>AR000004</td>\n      <td>Universidad del Salvador</td>\n      <td>아르헨티나의 대다수 대학교는 한국처럼 캠퍼스가 있는 것이 아니라 도시 내에 몇개의 ...</td>\n      <td>대학교가 도시 여러곳에 분포하고 있으므로 각기 다르다. 하지만 남녀를 불문하고 부에...</td>\n      <td>기숙사는 학교에서 제공하지 않고 두가지 옵션이 주어진다. 홈스테이 혹은 게스트 하우...</td>\n      <td>아르헨티나에서의 대학 수업은 주로 오전 혹은 저녁에 있다. 대부분의 학생들이 일을하...</td>\n      <td>EL SALVADOR대학교는 국제 교육부가 잘 되있는 학교이다. 아르헨티나 대학교들...</td>\n      <td>부대시설로는 헬스장이 있다고 알고 있으나 시내와 먼 곳에 있었다. 동아리는 몇가지 ...</td>\n      <td>딱히 컬쳐쇼크를 받을 만 한 요소는 없었던 것 같다. 하지만 처음에 언어적인 면에서...</td>\n      <td>살바도르 대학교 국제처에서 비자문제나 숙소문제(홈스테이경우) 등은 해결해 주고, 특...</td>\n      <td>NaN</td>\n    </tr>\n    <tr>\n      <th>1</th>\n      <td>AU000019</td>\n      <td>Australian National University</td>\n      <td>ANU has a very big campus, but unlike Yonsei, ...</td>\n      <td>The city center, called CIVIC, is 20min walk a...</td>\n      <td>There are many housing options, but I chose to...</td>\n      <td>In my personal opinions, classes are generally...</td>\n      <td>Overall, I did not have to ask for help much f...</td>\n      <td>There were many clubs for you to join at ANU, ...</td>\n      <td>I did have some culture shock during my first ...</td>\n      <td>I was helped a lot, especially during the firs...</td>\n      <td>Overall, my stay in Australia has been nothing...</td>\n    </tr>\n  </tbody>\n</table>\n</div>"
     },
     "metadata": {},
     "execution_count": 4
    }
   ],
   "source": [
    "# 위의 설정으로 간단하게 보는 df_specific\n",
    "df_specific = pd.read_csv(\"./data_wrangled/df_specific_wrangle.csv\", encoding=\"utf-8\")\n",
    "df_specific.head(2)"
   ]
  },
  {
   "cell_type": "code",
   "execution_count": 5,
   "metadata": {},
   "outputs": [
    {
     "output_type": "execute_result",
     "data": {
      "text/plain": [
       "         대학코드                    대학명  \\\n",
       "468  US000274      Whitworth College   \n",
       "469  US000278  Wittenberg University   \n",
       "\n",
       "                                              gen_info  \\\n",
       "468  내가 다녀온 교환대학은 Washington State 에 위치한 Whitworth ...   \n",
       "469  Wittenberg는 Ohio주의 작은 도시 Springfield에 위치해 있다. ...   \n",
       "\n",
       "                                              env_info  \\\n",
       "468  Whitworth College는 Seattle에서 비행기로 40분 정도 떨어져 있...   \n",
       "469  Springfield의 downtown에는 우체국, 은행(huntington) 정도...   \n",
       "\n",
       "                                             food_info  \\\n",
       "468  나는 Whitworth College에서 기숙사에 살았다. ISEP으로 가게 되면 ...   \n",
       "469  1,2학년과 국제학생들 (1년 이하로 있는 학생들)은 모두 기숙사에서 생활하게 된다...   \n",
       "\n",
       "                                            study_info  \\\n",
       "468  내가 미국에 가기 전에 가장 두려워했던 것은 바로 수업이었다. 어학연수와는 달리 교...   \n",
       "469  도서관은 Thomas library가 main이고 다른 단과대학 건물에 독서실이 있...   \n",
       "\n",
       "                                           office_info  \\\n",
       "468  이 학교에서 내가 마음 편하게 지낼 수 있었던 것은 국제교육부 스텝들이 너무 따뜻하...   \n",
       "469  국제교류부는 Hollenbeck 건물 1층에 있는데, Joann 과 Betsy 두 ...   \n",
       "\n",
       "                                            facil_info  \\\n",
       "468  기타 학교의 부대 시설로는 fitness center, music hall, soc...   \n",
       "469  Wittenberg의 가장 큰 장점. nWittenberg는 학비가 무척 비싼 학교...   \n",
       "\n",
       "                                             mhct_info  \\\n",
       "468                                                NaN   \n",
       "469  한국에서는 흔치 않은 gay, lesbian, transgender 등을 만날 수 ...   \n",
       "\n",
       "                                             help_info  \\\n",
       "468                                                NaN   \n",
       "469  Wittenberg는 국제학생들에게 host family를 붙여준다. 비록 같이 살...   \n",
       "\n",
       "                                              etc_info  \n",
       "468  처음에 Whitworth College를 ISEP으로부터 배정 받았을 때 현실적으로...  \n",
       "469  이처럼 wittenberg는 시골에 있는 작은 학교지만 지리적인 위치로 인한 단점보...  "
      ],
      "text/html": "<div>\n<style scoped>\n    .dataframe tbody tr th:only-of-type {\n        vertical-align: middle;\n    }\n\n    .dataframe tbody tr th {\n        vertical-align: top;\n    }\n\n    .dataframe thead th {\n        text-align: right;\n    }\n</style>\n<table border=\"1\" class=\"dataframe\">\n  <thead>\n    <tr style=\"text-align: right;\">\n      <th></th>\n      <th>대학코드</th>\n      <th>대학명</th>\n      <th>gen_info</th>\n      <th>env_info</th>\n      <th>food_info</th>\n      <th>study_info</th>\n      <th>office_info</th>\n      <th>facil_info</th>\n      <th>mhct_info</th>\n      <th>help_info</th>\n      <th>etc_info</th>\n    </tr>\n  </thead>\n  <tbody>\n    <tr>\n      <th>468</th>\n      <td>US000274</td>\n      <td>Whitworth College</td>\n      <td>내가 다녀온 교환대학은 Washington State 에 위치한 Whitworth ...</td>\n      <td>Whitworth College는 Seattle에서 비행기로 40분 정도 떨어져 있...</td>\n      <td>나는 Whitworth College에서 기숙사에 살았다. ISEP으로 가게 되면 ...</td>\n      <td>내가 미국에 가기 전에 가장 두려워했던 것은 바로 수업이었다. 어학연수와는 달리 교...</td>\n      <td>이 학교에서 내가 마음 편하게 지낼 수 있었던 것은 국제교육부 스텝들이 너무 따뜻하...</td>\n      <td>기타 학교의 부대 시설로는 fitness center, music hall, soc...</td>\n      <td>NaN</td>\n      <td>NaN</td>\n      <td>처음에 Whitworth College를 ISEP으로부터 배정 받았을 때 현실적으로...</td>\n    </tr>\n    <tr>\n      <th>469</th>\n      <td>US000278</td>\n      <td>Wittenberg University</td>\n      <td>Wittenberg는 Ohio주의 작은 도시 Springfield에 위치해 있다. ...</td>\n      <td>Springfield의 downtown에는 우체국, 은행(huntington) 정도...</td>\n      <td>1,2학년과 국제학생들 (1년 이하로 있는 학생들)은 모두 기숙사에서 생활하게 된다...</td>\n      <td>도서관은 Thomas library가 main이고 다른 단과대학 건물에 독서실이 있...</td>\n      <td>국제교류부는 Hollenbeck 건물 1층에 있는데, Joann 과 Betsy 두 ...</td>\n      <td>Wittenberg의 가장 큰 장점. nWittenberg는 학비가 무척 비싼 학교...</td>\n      <td>한국에서는 흔치 않은 gay, lesbian, transgender 등을 만날 수 ...</td>\n      <td>Wittenberg는 국제학생들에게 host family를 붙여준다. 비록 같이 살...</td>\n      <td>이처럼 wittenberg는 시골에 있는 작은 학교지만 지리적인 위치로 인한 단점보...</td>\n    </tr>\n  </tbody>\n</table>\n</div>"
     },
     "metadata": {},
     "execution_count": 5
    }
   ],
   "source": [
    "# 위의 설정으로 간단하게 보는 df_specific\n",
    "df_specific.tail(2)"
   ]
  },
  {
   "cell_type": "code",
   "execution_count": 6,
   "metadata": {
    "tags": []
   },
   "outputs": [
    {
     "output_type": "stream",
     "name": "stdout",
     "text": [
      "Index(['대학코드', '대학명', 'gen_info', 'env_info', 'food_info', 'study_info',\n       'office_info', 'facil_info', 'mhct_info', 'help_info', 'etc_info'],\n      dtype='object')\n(470, 11)\n"
     ]
    }
   ],
   "source": [
    "print(df_specific.columns)\n",
    "print(df_specific.shape)"
   ]
  },
  {
   "cell_type": "code",
   "execution_count": 7,
   "metadata": {},
   "outputs": [],
   "source": [
    "# pandas 설정: 각 column 별 (혹은 한 cell에서) 출력되는 글자수 제한을 없애기\n",
    "pd.set_option('display.max_colwidth', None)"
   ]
  },
  {
   "cell_type": "code",
   "execution_count": 8,
   "metadata": {},
   "outputs": [],
   "source": [
    "import re\n",
    "# removing other letters except for korean letters from the string data\n",
    "def remove_junk(str_data):\n",
    "    str_data = str_data.replace(\"\\\\\\\\n\", \"\")\n",
    "    str_data = str_data.replace(\"\\\\n\", \"\")\n",
    "    str_data = str_data.replace(\"\\n\", \"\")\n",
    "    str_data = str_data.replace(\"\\\\\", \"\")\n",
    "    str_data = str_data.replace(\"\\\\t\", \"\")\n",
    "    str_data = str_data.replace(\"NaN\", \"\")\n",
    "\n",
    "    # print(str_data) makes an error. too much of data\n",
    "    # 한글, english 빼고 전부 날리기\n",
    "    # str_data = re.sub('[^가-힣ㄱ-ㅎㅏ-ㅣa-zA-Z|0-9|.,]', ' ', str_data)\n",
    "\n",
    "    # 한글 빼고 다 날리기\n",
    "    str_data = re.sub('[^가-힣ㄱ-ㅎㅏ]', ' ', str_data)\n",
    "\n",
    "    # replace multiple spaces into single space\n",
    "    str_data = ' '.join(str_data.split())\n",
    "    return str_data\n",
    "\n",
    "def access_univ_info(dataframe, column, univ_code):\n",
    "    df_row = dataframe.loc[dataframe[\"대학코드\"] == univ_code]\n",
    "    str_univ_info = df_row[column].to_string(index=False).lstrip()\n",
    "    str_univ_info = remove_junk(str_univ_info)\n",
    "    return str_univ_info\n",
    "\n",
    "\n",
    "# removing junks only from the string data\n",
    "def remove_junk_only(str_data):\n",
    "    str_data = str_data.replace(\"\\\\\\\\n\", \"\")\n",
    "    str_data = str_data.replace(\"\\\\n\", \"\")\n",
    "    str_data = str_data.replace(\"\\n\", \"\")\n",
    "    str_data = str_data.replace(\"\\\\\", \"\")\n",
    "    str_data = str_data.replace(\"\\\\t\", \"\")\n",
    "    str_data = str_data.replace(\"NaN\", \"\")\n",
    "\n",
    "    # replace multiple spaces into single space\n",
    "    str_data = ' '.join(str_data.split())\n",
    "    return str_data\n",
    "\n",
    "# accessing university info of given column (= accessing one cell)\n",
    "def access_univ_info_raw(dataframe, column, univ_code):\n",
    "    df_row = dataframe.loc[dataframe[\"대학코드\"] == univ_code]\n",
    "    str_univ_info = df_row[column].to_string(index=False).lstrip()\n",
    "    str_univ_info = remove_junk_only(str_univ_info)\n",
    "    return str_univ_info\n",
    "\n",
    "# collecting all column values into one string\n",
    "def column_to_string(dataframe, column_name: str):\n",
    "    str_corpus = dataframe[column_name].to_string(index=False).lstrip()\n",
    "    str_corpus = remove_junk_only(str_corpus)\n",
    "    return str_corpus"
   ]
  },
  {
   "cell_type": "code",
   "execution_count": 9,
   "metadata": {},
   "outputs": [
    {
     "output_type": "execute_result",
     "data": {
      "text/plain": [
       "'코펜하겐 대학교는 자연과학캠퍼스, 인문캠퍼스 등 코펜하겐 시내 곳곳에 흩어져 있습니다. 저는 조경건축 수업을 듣기 위해 Frederiksberg 에 위치한 자연과학 캠퍼스도 다니고'"
      ]
     },
     "metadata": {},
     "execution_count": 9
    }
   ],
   "source": [
    "column_data = \"gen_info\"\n",
    "univ_code = \"DK000003\"\n",
    "str_example = access_univ_info_raw(df_specific, column_data, univ_code)\n",
    "str_example[:100]"
   ]
  },
  {
   "cell_type": "code",
   "execution_count": 18,
   "metadata": {},
   "outputs": [
    {
     "output_type": "execute_result",
     "data": {
      "text/plain": [
       "'- 대학 크기 : 대부분 홍콩대가 많이 작다고들 많이 말씀하시는데, 저는 딱히 연대에 비해 작다고 느끼지는 못했으며 오히려 캠퍼스 구조가 굉장히 복잡하게 이루어져 있어서 길눈이 밝은 편임에도 제대로 캠퍼스 지리를 파악하는데 2주정도 걸렸던 것 같습니다. 사방에 입출구가 많기도 하고, 빨리 파악할 수록 훨씬 학교 생활이 편해지기 때문에, 열심히 지도 보시면서 파악하고 다니시는 걸 추천드릴게요! 무조건 지하철역 엘리베이터를 통해서 올라가셔야하고, 그냥 지도만 보고 학교쪽으로 가시다가는 예상치 못한 본격적인 하이킹에 깜짝 놀라실 수 있습니다. - 지리적 위치 : 홍콩대 위치는 정말 정말 최고입니다! 서울로 말하자면 종각역 정도에 위치했다고 생각할 수 있을 것 같아요. 센트럴, 코즈웨이베이, 침사추이 등 주요 홍콩 번화가가 모두 지하철/트램으로 20분도 걸리지 않는 마법의 지역에 위치해있으면서도, 학교 자체는 번화가보다는 주거지쪽에 위치한 편이라 조용하고 한적합니다. 산 위에 지어... 홍콩대학교 캠퍼스는 산위에 있으며 지하철역과 엘리베이터로 연결되어 있습니다. 비교적 캠퍼스가 크지 않으며 미로 같은 느낌을 주기 때문에 처음에 길을 잃거나 건물들을 찾는데 애를 먹을 수 있습니다. 학기 시작 전에 미리 찾아놓는 것을 추천 드립니다.지리적으로는 홍콩 섬에 위치해 있기 때문에 지리적으로는 탁월합니다. 북부에 위치해 홍콩 섬 남부나 구룡 반도 관광지에 다녀오기 용이한 편입니다. 특히 구룡 반도는 수업 이후에도 부담 없이 다녀올 수 있습니다. 추가적으로 금융 회사들이 다수 포진돼 있는 센트럴역과도 지하철로 몇정거장 차이가 나지 않아서 위치는 정말 좋습니다.홍콩 기후는 매우 습하지만 10월말 이후 부터는 선선하고 밖에 다니기 굉장히 좋습니다. 홍콩대학교의 캠퍼스는 연세대학교와 정반대라고 생각하시면 됩니다. 온 캠퍼스를 비를 맞지 않고 돌아다닐 수 있을 만큼 많은 건물이 미로처럼 연결되어 있습니다. 이 때문에 좋은 점도 있지만, 초반에는 좀 길을 헤매실 수도 있습니다. 학기 초반에 캠퍼스 구경하시면서 지리를 익혀놓으시면 좋을 것 같습니다.지리적으로는 홍콩 섬 북부에 위치해 홍콩 섬 남부나 구룡 반도 관광지에 다녀오기 용이한 편입니다. 특히 구룡 반도는 수업 이후에도 부담 없이 다녀올 수 있습니다. 홍콩이 기본적으로 크지 않고 선택할 수 있는 교통편도 다양해서 홍콩 섬 이외의 지역으로도 쉽게 이동할 수 있는 편입니다.상반기 홍콩 기후는 습하지만 나름 괜찮습니다. 상반기 교환의 경우 대개 5월까지 머무르는데 장마 기간도 겹쳐있어서 30도는 거의 넘지 않았던 것 같습니다. 미세먼지 수치는 한국과 비슷했던 것으로 기억합니다. 위치는 최고였습니다. Hong Kong Island라는 홍콩의 중심지에 있기 때문에 놀러 나갈 때도 너무 이동하기 편리했던 곳입니다. 교환대학은 연세대의 1/4라고 보면 될 거 같습니다. 캠퍼스는 연대의 비해 작고 main campus랑 centennial campus (신축) 이렇게 두 곳으로 나눠져있습니다. 두 캠퍼스가 붙어 있어서 다니기도 편리합니다. 다만, 아무래도 main campus는 낡은 빌딩들이 많아서 저처럼 깔끔한 곳을 좋아한다면 수업을 centennial campus에서 듣는 걸 추천합니다. Centennial campus는 비유하자면 약간 송도 느낌 납니다. 홍콩대는 홍콩섬에 위치해 있어 다른 대학들에 비해 소호나 침사추이등과 가까워 놀기 좋습니다. 치안도 홍콩섬이 비교적 좋은 편이라고 하더라구요. 홍콩대는 연세대처럼 캠퍼스가 넓게 펼쳐져 있다기 보단 여러 건물들이 서로 연결되어 미로처럼 생겼습니다. 그래서 강의 시작전에 친구들에게 물어보거나 지도를 보면서 홍콩대 지리에 좀 익숙해질 필요가 있습니다. 전 1월 말부터 5월 초까지 홍콩에 있었기 때문에 특별히 춥거나 덥다는 느낌을 못받았습니다. 다만 통풍 시스템이 안좋은 홍콩 건물 특성 상 겨울에도 에어컨을 틀어놓기 때문에 가볍게 걸칠 옷을 챙겨갈 필요가 있습니다. 처음에 홍콩으로 가려고 지원 학교를 할때 사실 저의 1순위는 과기대였습니다. 하지만 홍콩대로 교환을 갔다온 친구가 저의 순위를 보더니 과기대 가면 학교에만 갇혀있어야 한다는 말을 듣고 바로 홍콩대로 바꿨습니다. 정말 그 친구의 말이 신의 한 수 였을 정도로 홍콩대는 아주 좋은 지리적위치를 가지고 있습니다. 홍콩섬에 위치해 어디든 가기 좋고 센트럴과 가까운것도 아주 큰 장점 입니다. 학교 자체는 엄청 작습니다. 물론 교내에 스타벅스가 두개나 있긴 하지만 그래도 아주 작습니다. 연대로 치면 공대 하나 있는 느낌? 작은것도 장점이 있긴합니다. 작아서 수업에서 수업으로 갈떄 엄청 힘들진 않았습니다. 지리적위치는 홍콩으로 치면 2호선 중간에 있다고 보시면 됩니다. 강남급인 센트럴 완차이가 워낙 가까워서 아주 편리하긴 합니다. 물론 홍콩 자체가 워낙 작아서 어디든 가깝긴해요! 기후는.. 덥고 모기가 너무 많습니다... 제가 가을에 갔는데 12월 초? 중순? 까지 반팔입고 다녔습니다. 다만 태풍이 자주 옵니다. 가끔 밖에 못나갈정도로 심해서 비상식량을 챙길떄가 있긴 합니다. 작습니'"
      ]
     },
     "metadata": {},
     "execution_count": 18
    }
   ],
   "source": [
    "str_example[:2500]"
   ]
  },
  {
   "cell_type": "code",
   "execution_count": 10,
   "metadata": {
    "tags": []
   },
   "outputs": [
    {
     "output_type": "stream",
     "name": "stdout",
     "text": [
      "글자수: 4648952\n"
     ]
    },
    {
     "output_type": "execute_result",
     "data": {
      "text/plain": [
       "'아르헨티나의 대다수 대학교는 한국처럼 캠퍼스가 있는 것이 아니라 도시 내에 몇개의 건물이 대학교 건물이라서 수업에 맞는 건물로 수업을 들으러 가면 된다. 도시의 대중교통이 꽤 잘 '"
      ]
     },
     "metadata": {},
     "execution_count": 10
    }
   ],
   "source": [
    "# collecting all column values into one string\n",
    "corpus = column_to_string(df_specific, column_data)\n",
    "print(\"글자수:\", len(corpus))\n",
    "corpus[:100]"
   ]
  },
  {
   "cell_type": "code",
   "execution_count": 11,
   "metadata": {},
   "outputs": [],
   "source": [
    "from textrankr import TextRank\n",
    "\n",
    "def yield_summary(df_specific, column_data, univ_code, sentence_no):\n",
    "    string_data = access_univ_info_raw(df_specific, column_data, univ_code)\n",
    "\n",
    "    textrank = TextRank(string_data)\n",
    "    # print(textrank.summarize())  # gives you some text\n",
    "    summarized_list = textrank.summarize(sentence_no, verbose=False)\n",
    "\n",
    "    summary_text_md = \"\"\n",
    "\n",
    "    for sentence in summarized_list:\n",
    "        summary_line = \\\n",
    "f\"\"\"* {sentence}\n",
    "\"\"\"\n",
    "        summary_text_md += summary_line\n",
    "\n",
    "    return summary_text_md"
   ]
  },
  {
   "cell_type": "code",
   "execution_count": 12,
   "metadata": {
    "tags": []
   },
   "outputs": [
    {
     "output_type": "stream",
     "name": "stdout",
     "text": [
      "* 홍콩은 여행객으로서 교환학생 생활을 하기에 용이합니다.\n* 홍콩이 생각보다 매우 작습니다.\n* 홍콩에서는 교환학생 및 외국인에게도 기회가 상당히 많습니다.\n* 많은 고민 끝에 결정한 교환학생이었지만 홍콩에서의 한학기는 후회하지 않는다.\n* 기회가 된다면 홍콩에서.\n\n"
     ]
    }
   ],
   "source": [
    "column_data = \"etc_info\"\n",
    "univ_code = \"CN000016\"\n",
    "\n",
    "print(yield_summary(df_specific, column_data, univ_code, 5))"
   ]
  },
  {
   "cell_type": "code",
   "execution_count": 13,
   "metadata": {
    "tags": []
   },
   "outputs": [
    {
     "output_type": "stream",
     "name": "stdout",
     "text": [
      "어둡고 추운 겨울을 견디고 오는 코펜하겐의 봄 여름 날씨는 환상적입니다.\n는 덴마크 수도 코펜하겐에 위치하고 있어요 캠퍼스는 시내에 개로 나누어져 있습니다.\n코펜하겐은 위도가 높아서 여름에는 해가 유난히 길고 시에 밝아지기 시작해서 시 넘어 해가 짐 겨울에는 매우 짧습니다.\n"
     ]
    },
    {
     "output_type": "execute_result",
     "data": {
      "text/plain": [
       "['코펜하겐 대학의 캠퍼스는 도시 곳곳에 흩어져 있는데 저는 봄학기에는 문과대학이 위치한 에서 가을학기에는 사회과학대학이 위치한 에서 수업을 들었습니다.',\n",
       " '그러니 가을 겨울학기에 가는 분들은 날씨가 추워지기 전에 코펜하겐을 둘러보는 것을 추천합니다.',\n",
       " '코펜하겐의 여름은 날씨가 굉장히 좋고 아름답습니다.',\n",
       " '어둡고 추운 겨울을 견디고 오는 코펜하겐의 봄 여름 날씨는 환상적입니다.',\n",
       " '코펜하겐은 여름이 짧고 월 말 정도부터 추워지기 시작합니다.',\n",
       " '는 덴마크 수도 코펜하겐에 위치하고 있어요 캠퍼스는 시내에 개로 나누어져 있습니다.',\n",
       " '코펜하겐은 위도 북쪽에 위치하여 여름에는 낮이 길고 겨울에는 밤이 긴 특징을 가지 우선 캠퍼스가 여러개로 나뉘어져 있습니다.',\n",
       " '코펜하겐은 위도가 높아서 여름에는 해가 유난히 길고 시에 밝아지기 시작해서 시 넘어 해가 짐 겨울에는 매우 짧습니다.',\n",
       " '코펜하겐 대학교는 캠퍼스가 따로 없이 코펜하겐 시내 곳곳에 학교 건물이 퍼져 있습니다.',\n",
       " '코펜하겐은 덴마크의 수도이고 서울에 비한다면 그리 크지 않은 도시입니다.']"
      ]
     },
     "metadata": {},
     "execution_count": 13
    }
   ],
   "source": [
    "from textrankr import TextRank\n",
    "\n",
    "column_data = \"gen_info\"\n",
    "univ_code = \"DK000003\"\n",
    "str_example = access_univ_info(df_specific, column_data, univ_code)\n",
    "str_example = str_example.replace(\"니다\", \"니다.\")\n",
    "\n",
    "textrank = TextRank(str_example)\n",
    "print(textrank.summarize())  # gives you some text\n",
    "textrank.summarize(10, verbose=False)  # up to 3 sentences, returned as list"
   ]
  },
  {
   "cell_type": "code",
   "execution_count": 14,
   "metadata": {
    "tags": []
   },
   "outputs": [
    {
     "output_type": "stream",
     "name": "stdout",
     "text": [
      "코펜하겐의 여름은 날씨가 굉장히 좋고 아름답습니다.\n어둡고 추운 겨울을 견디고 오는 코펜하겐의 봄, 여름 날씨는 환상적입니다.\n코펜하겐 대학은 캠퍼스가 아닙니다.\n"
     ]
    },
    {
     "output_type": "execute_result",
     "data": {
      "text/plain": [
       "['코펜하겐의 겨울날씨는 체감상 한국의 겨울날씨보다 우중충하고 바람이 많고 잔비가 수시로 내려서 더 춥게 느껴졌습니다.',\n",
       " '코펜하겐의 기후는 (제가 갔던 봄, 여름 기준) 대체로 서늘한 날씨지만, 겨울~초봄에는 한국보다 기온이 높아서 생각만큼 춥지는 않습니다.',\n",
       " '그러니 가을-겨울학기에 가는 분들은 날씨가 추워지기 전에 코펜하겐을 둘러보는 것을 추천합니다.',\n",
       " '코펜하겐의 여름은 날씨가 굉장히 좋고 아름답습니다.',\n",
       " '어둡고 추운 겨울을 견디고 오는 코펜하겐의 봄, 여름 날씨는 환상적입니다.',\n",
       " '코펜하겐 대학은 여러개의 캠퍼스로 나뉘어 있습니다.',\n",
       " '앞서 많은 학생들이 기술하였듯 덴마크 코펜하겐 대학은 캠퍼스 대학이 아니라 단과대학 형식으로 도시 곳곳에 건물이 위치해 있습니다.',\n",
       " '코펜하겐 대학교는 캠퍼스가 따로 없이 코펜하겐 시내 곳곳에 학교 건물이 퍼져 있습니다.',\n",
       " '코펜하겐 대학은 캠퍼스가 아닙니다.',\n",
       " '코펜하겐은 덴마크의 수도이고, 서울에 비한다면 그리 크지 않은 도시입니다.']"
      ]
     },
     "metadata": {},
     "execution_count": 14
    }
   ],
   "source": [
    "from textrankr import TextRank\n",
    "\n",
    "column_data = \"gen_info\"\n",
    "univ_code = \"DK000003\"\n",
    "\n",
    "str_example = access_univ_info_raw(df_specific, column_data, univ_code)\n",
    "\n",
    "textrank = TextRank(str_example)\n",
    "print(textrank.summarize())  # gives you some text\n",
    "textrank.summarize(10, verbose=False)  # up to 3 sentences, returned as list"
   ]
  },
  {
   "cell_type": "code",
   "execution_count": 15,
   "metadata": {
    "tags": []
   },
   "outputs": [
    {
     "output_type": "stream",
     "name": "stdout",
     "text": [
      "코펜하겐의 여름은 날씨가 굉장히 좋고 아름답습니다.\n어둡고 추운 겨울을 견디고 오는 코펜하겐의 봄, 여름 날씨는 환상적입니다.\n코펜하겐 대학은 캠퍼스가 아닙니다.\n"
     ]
    },
    {
     "output_type": "execute_result",
     "data": {
      "text/plain": [
       "['코펜하겐의 겨울날씨는 체감상 한국의 겨울날씨보다 우중충하고 바람이 많고 잔비가 수시로 내려서 더 춥게 느껴졌습니다.',\n",
       " '코펜하겐의 기후는 (제가 갔던 봄, 여름 기준) 대체로 서늘한 날씨지만, 겨울~초봄에는 한국보다 기온이 높아서 생각만큼 춥지는 않습니다.',\n",
       " '그러니 가을-겨울학기에 가는 분들은 날씨가 추워지기 전에 코펜하겐을 둘러보는 것을 추천합니다.',\n",
       " '코펜하겐의 여름은 날씨가 굉장히 좋고 아름답습니다.',\n",
       " '어둡고 추운 겨울을 견디고 오는 코펜하겐의 봄, 여름 날씨는 환상적입니다.',\n",
       " '코펜하겐 대학은 여러개의 캠퍼스로 나뉘어 있습니다.',\n",
       " '앞서 많은 학생들이 기술하였듯 덴마크 코펜하겐 대학은 캠퍼스 대학이 아니라 단과대학 형식으로 도시 곳곳에 건물이 위치해 있습니다.',\n",
       " '코펜하겐 대학교는 캠퍼스가 따로 없이 코펜하겐 시내 곳곳에 학교 건물이 퍼져 있습니다.',\n",
       " '코펜하겐 대학은 캠퍼스가 아닙니다.',\n",
       " '코펜하겐은 덴마크의 수도이고, 서울에 비한다면 그리 크지 않은 도시입니다.']"
      ]
     },
     "metadata": {},
     "execution_count": 15
    }
   ],
   "source": [
    "from textrankr import TextRank\n",
    "\n",
    "column_data = \"gen_info\"\n",
    "univ_code = \"DK000003\"\n",
    "\n",
    "str_example = access_univ_info_raw(df_specific, column_data, univ_code)\n",
    "\n",
    "textrank = TextRank(str_example)\n",
    "print(textrank.summarize())  # gives you some text\n",
    "textrank.summarize(10, verbose=False)  # up to 3 sentences, returned as list"
   ]
  },
  {
   "cell_type": "code",
   "execution_count": 16,
   "metadata": {
    "tags": []
   },
   "outputs": [
    {
     "output_type": "stream",
     "name": "stdout",
     "text": [
      "나가사키에 위치해 있고 나가사키 대학교는 3개의 캠퍼스로 나뉜다.\n나가사키대학은 나가사키현의 나가사키시에 위치해 있으며 3개의 작은 캠퍼스로 이루어져 있다.\n나가사키는 상당히 남쪽에 위치하기 때문에 겨울에도 그렇게 추운편이 아니다.\n['나가사키는 일본 큐슈의 남쪽에 위치한 작은 항구도시로, 제2차 세계대전 당시 히로시마와 함께 원폭이 떨어진 곳으로 유명하다.', '나가사키에 위치해 있고 나가사키 대학교는 3개의 캠퍼스로 나뉜다.', '나가사키대학은 일본 나가사키현 나가사키시에 경제학부/의,약학부/그 외 학부의 3개의 캠퍼스로 이루어져있다.', '기후는 우리나라의 기후에서 여름은 더 덥고 겨울은 더 춥게 느껴졌다.', '나가사키대학교는 일본의 가장 남쪽 섬인 큐슈의 나가사키시에 있다.', 'n 나가사키 대학교는 3개의 캠퍼스가 있는데 교환학생(NISP 프로.', '나가사키는 오키나와를 제외한 일본 최남서쪽에 위치한 작은 항구도시이다.', '나가사키대학은 나가사키현의 나가사키시에 위치해 있으며 3개의 작은 캠퍼스로 이루어져 있다.', '나가사키는 상당히 남쪽에 위치하기 때문에 겨울에도 그렇게 추운편이 아니다.', '나가사키는 꽤 남쪽에 위치한다.']\n"
     ]
    }
   ],
   "source": [
    "from textrankr import TextRank\n",
    "\n",
    "column_data = \"gen_info\"\n",
    "univ_code = \"JP000017\"\n",
    "str_example = access_univ_info_raw(df_specific, column_data, univ_code)\n",
    "\n",
    "textrank = TextRank(str_example)\n",
    "print(textrank.summarize())  # gives you some text\n",
    "print(textrank.summarize(10, verbose=False))  # up to 3 sentences, returned as list"
   ]
  },
  {
   "cell_type": "code",
   "execution_count": 17,
   "metadata": {
    "tags": []
   },
   "outputs": [
    {
     "output_type": "stream",
     "name": "stdout",
     "text": [
      "지리적으로는 홍콩 섬에 위치해 있기 때문에 지리적으로는 탁월합니다.\n1. 홍콩대 위치/크기홍콩대학교는 홍콩섬에 위치해있습니다.\n홍콩대학교는 그렇게 큰 학교는 아닙니다.\n['지리적으로는 홍콩 섬에 위치해 있기 때문에 지리적으로는 탁월합니다.', '홍콩대학교 위치는 최고입니다.', '1. 홍콩대 위치/크기홍콩대학교는 홍콩섬에 위치해있습니다.', '학교 위치는 홍콩에 있는 다른 어느 대학들보다도 가장 좋은 곳에 있습니다.', '홍콩대학교는 그렇게 큰 학교는 아닙니다.', '홍콩대학교는 홍콩 섬의 북서쪽에 위치해있는데 캠퍼스 자체는 우리 학교보다는 작은 편입니다.', '홍콩대학교의 크기는 홍콩섬이 작기 때문에 그리 크지는 않지만 n아늑하고 이동하기 편리하게 되있었다.', '홍콩대학교는 홍콩의 Kowloon 섬에 위치하고 있다.', '홍콩은 홍콩섬과 구룡반도 그리고 신계지로 이루어져있는데, 홍콩대학교는 홍콩섬에 위치하고 있다.', '위치 : 홍콩대학은 홍콩섬의 북서쪽에 위치하고 있습니다.']\n"
     ]
    }
   ],
   "source": [
    "from textrankr import TextRank\n",
    "\n",
    "column_data = \"gen_info\"\n",
    "univ_code = \"CN000016\"\n",
    "str_example = access_univ_info_raw(df_specific, column_data, univ_code)\n",
    "\n",
    "textrank = TextRank(str_example)\n",
    "print(textrank.summarize())  # gives you some text\n",
    "print(textrank.summarize(10, verbose=False))  # up to 3 sentences, returned as list"
   ]
  },
  {
   "cell_type": "code",
   "execution_count": null,
   "metadata": {},
   "outputs": [],
   "source": []
  }
 ]
}