{
 "metadata": {
  "language_info": {
   "codemirror_mode": {
    "name": "ipython",
    "version": 3
   },
   "file_extension": ".py",
   "mimetype": "text/x-python",
   "name": "python",
   "nbconvert_exporter": "python",
   "pygments_lexer": "ipython3",
   "version": "3.8.3-final"
  },
  "orig_nbformat": 2,
  "kernelspec": {
   "name": "python38364bitnlpkor2venv9d064b0babaf4dea8511fea4ea08c8f3",
   "display_name": "Python 3.8.3 64-bit ('nlpkor2': venv)",
   "language": "python"
  }
 },
 "nbformat": 4,
 "nbformat_minor": 2,
 "cells": [
  {
   "cell_type": "code",
   "execution_count": 3,
   "metadata": {
    "tags": []
   },
   "outputs": [
    {
     "output_type": "stream",
     "name": "stdout",
     "text": [
      "fatal: destination path 'KoBART' already exists and is not an empty directory.\n",
      "/Users/noopy/yonsei-exchange-program/KoBART\n",
      "Collecting torch==1.7.0\n",
      "  Using cached torch-1.7.0-cp38-none-macosx_10_9_x86_64.whl (108.1 MB)\n",
      "Collecting transformers==4.0.0\n",
      "  Downloading transformers-4.0.0-py3-none-any.whl (1.4 MB)\n",
      "\u001b[K     |████████████████████████████████| 1.4 MB 1.8 MB/s \n",
      "\u001b[?25hProcessing /Users/noopy/Library/Caches/pip/wheels/8e/70/28/3d6ccd6e315f65f245da085482a2e1c7d14b90b30f239e2cf4/future-0.18.2-py3-none-any.whl\n",
      "Collecting dataclasses\n",
      "  Using cached dataclasses-0.6-py3-none-any.whl (14 kB)\n",
      "Requirement already satisfied: numpy in /Users/noopy/.pyenv/versions/3.8.3/envs/nlpkor2/lib/python3.8/site-packages (from torch==1.7.0->-r requirements.txt (line 1)) (1.18.5)\n",
      "Collecting typing-extensions\n",
      "  Using cached typing_extensions-3.7.4.3-py3-none-any.whl (22 kB)\n",
      "Requirement already satisfied: sacremoses in /Users/noopy/.pyenv/versions/3.8.3/envs/nlpkor2/lib/python3.8/site-packages (from transformers==4.0.0->-r requirements.txt (line 2)) (0.0.43)\n",
      "Requirement already satisfied: packaging in /Users/noopy/.pyenv/versions/3.8.3/envs/nlpkor2/lib/python3.8/site-packages (from transformers==4.0.0->-r requirements.txt (line 2)) (20.4)\n",
      "Requirement already satisfied: requests in /Users/noopy/.pyenv/versions/3.8.3/envs/nlpkor2/lib/python3.8/site-packages (from transformers==4.0.0->-r requirements.txt (line 2)) (2.24.0)\n",
      "Collecting tokenizers==0.9.4\n",
      "  Downloading tokenizers-0.9.4-cp38-cp38-macosx_10_11_x86_64.whl (2.0 MB)\n",
      "\u001b[K     |████████████████████████████████| 2.0 MB 4.5 MB/s \n",
      "\u001b[?25hRequirement already satisfied: tqdm>=4.27 in /Users/noopy/.pyenv/versions/3.8.3/envs/nlpkor2/lib/python3.8/site-packages (from transformers==4.0.0->-r requirements.txt (line 2)) (4.48.2)\n",
      "Requirement already satisfied: filelock in /Users/noopy/.pyenv/versions/3.8.3/envs/nlpkor2/lib/python3.8/site-packages (from transformers==4.0.0->-r requirements.txt (line 2)) (3.0.12)\n",
      "Requirement already satisfied: regex!=2019.12.17 in /Users/noopy/.pyenv/versions/3.8.3/envs/nlpkor2/lib/python3.8/site-packages (from transformers==4.0.0->-r requirements.txt (line 2)) (2020.7.14)\n",
      "Requirement already satisfied: six in /Users/noopy/.pyenv/versions/3.8.3/envs/nlpkor2/lib/python3.8/site-packages (from sacremoses->transformers==4.0.0->-r requirements.txt (line 2)) (1.15.0)\n",
      "Requirement already satisfied: joblib in /Users/noopy/.pyenv/versions/3.8.3/envs/nlpkor2/lib/python3.8/site-packages (from sacremoses->transformers==4.0.0->-r requirements.txt (line 2)) (0.16.0)\n",
      "Requirement already satisfied: click in /Users/noopy/.pyenv/versions/3.8.3/envs/nlpkor2/lib/python3.8/site-packages (from sacremoses->transformers==4.0.0->-r requirements.txt (line 2)) (7.1.2)\n",
      "Requirement already satisfied: pyparsing>=2.0.2 in /Users/noopy/.pyenv/versions/3.8.3/envs/nlpkor2/lib/python3.8/site-packages (from packaging->transformers==4.0.0->-r requirements.txt (line 2)) (2.4.7)\n",
      "Requirement already satisfied: chardet<4,>=3.0.2 in /Users/noopy/.pyenv/versions/3.8.3/envs/nlpkor2/lib/python3.8/site-packages (from requests->transformers==4.0.0->-r requirements.txt (line 2)) (3.0.4)\n",
      "Requirement already satisfied: urllib3!=1.25.0,!=1.25.1,<1.26,>=1.21.1 in /Users/noopy/.pyenv/versions/3.8.3/envs/nlpkor2/lib/python3.8/site-packages (from requests->transformers==4.0.0->-r requirements.txt (line 2)) (1.25.10)\n",
      "Requirement already satisfied: idna<3,>=2.5 in /Users/noopy/.pyenv/versions/3.8.3/envs/nlpkor2/lib/python3.8/site-packages (from requests->transformers==4.0.0->-r requirements.txt (line 2)) (2.10)\n",
      "Requirement already satisfied: certifi>=2017.4.17 in /Users/noopy/.pyenv/versions/3.8.3/envs/nlpkor2/lib/python3.8/site-packages (from requests->transformers==4.0.0->-r requirements.txt (line 2)) (2020.6.20)\n",
      "Installing collected packages: future, dataclasses, typing-extensions, torch, tokenizers, transformers\n",
      "  Attempting uninstall: tokenizers\n",
      "    Found existing installation: tokenizers 0.8.1rc1\n",
      "    Uninstalling tokenizers-0.8.1rc1:\n",
      "      Successfully uninstalled tokenizers-0.8.1rc1\n",
      "  Attempting uninstall: transformers\n",
      "    Found existing installation: transformers 3.0.2\n",
      "    Uninstalling transformers-3.0.2:\n",
      "      Successfully uninstalled transformers-3.0.2\n",
      "Successfully installed dataclasses-0.6 future-0.18.2 tokenizers-0.9.4 torch-1.7.0 transformers-4.0.0 typing-extensions-3.7.4.3\n",
      "\u001b[33mWARNING: You are using pip version 20.2.2; however, version 20.3.3 is available.\n",
      "You should consider upgrading via the '/Users/noopy/.pyenv/versions/3.8.3/envs/nlpkor2/bin/python3.8 -m pip install --upgrade pip' command.\u001b[0m\n",
      "Processing /Users/noopy/yonsei-exchange-program/KoBART\n",
      "Building wheels for collected packages: kobart\n",
      "  Building wheel for kobart (setup.py) ... \u001b[?25ldone\n",
      "\u001b[?25h  Created wheel for kobart: filename=kobart-0.1.2-py3-none-any.whl size=8293 sha256=7cf6094ec1a8ee6d1942114ea0663f9922d8064df60aab79a1e63f0bed7a775b\n",
      "  Stored in directory: /private/var/folders/f8/9hn0rsx125vf87jp8_skr1l40000gn/T/pip-ephem-wheel-cache-9q1_ednq/wheels/35/ae/83/d77469e892e4a923c6514a0e04eafb4f4b9a63d4aaea0eb7fc\n",
      "Successfully built kobart\n",
      "Installing collected packages: kobart\n",
      "Successfully installed kobart-0.1.2\n",
      "\u001b[33mWARNING: You are using pip version 20.2.2; however, version 20.3.3 is available.\n",
      "You should consider upgrading via the '/Users/noopy/.pyenv/versions/3.8.3/envs/nlpkor2/bin/python3.8 -m pip install --upgrade pip' command.\u001b[0m\n"
     ]
    }
   ],
   "source": [
    "!git clone https://github.com/SKT-AI/KoBART.git\n",
    "%cd KoBART\n",
    "!pip install -r requirements.txt\n",
    "!pip install ."
   ]
  },
  {
   "cell_type": "code",
   "execution_count": 4,
   "metadata": {},
   "outputs": [
    {
     "output_type": "stream",
     "name": "stdout",
     "text": [
      "LICENSE          \u001b[1m\u001b[36mimgs\u001b[m\u001b[m             requirements.txt\nREADME.md        \u001b[1m\u001b[36mkobart\u001b[m\u001b[m           setup.py\n"
     ]
    }
   ],
   "source": [
    "!ls"
   ]
  },
  {
   "cell_type": "code",
   "execution_count": 9,
   "metadata": {},
   "outputs": [
    {
     "output_type": "stream",
     "name": "stdout",
     "text": [
      "/Users/noopy/yonsei-exchange-program\n"
     ]
    }
   ],
   "source": [
    "%cd .."
   ]
  },
  {
   "cell_type": "code",
   "execution_count": 10,
   "metadata": {
    "tags": []
   },
   "outputs": [
    {
     "output_type": "stream",
     "name": "stdout",
     "text": [
      "1.1.0\n1.18.5\n"
     ]
    }
   ],
   "source": [
    "import pandas as pd\n",
    "import numpy as np\n",
    "print(pd.__version__)\n",
    "print(np.__version__)"
   ]
  },
  {
   "cell_type": "code",
   "execution_count": 11,
   "metadata": {},
   "outputs": [],
   "source": [
    "# pandas 설정: 모든 row와 모든 column을 출력하게 하고, 각 column 별 출력되는 글자수는 50자 이내\n",
    "pd.set_option('display.max_rows', None, 'display.max_columns', None, 'display.max_colwidth', 50)"
   ]
  },
  {
   "cell_type": "code",
   "execution_count": 12,
   "metadata": {},
   "outputs": [
    {
     "output_type": "execute_result",
     "data": {
      "text/plain": [
       "       대학코드                             대학명  \\\n",
       "0  AR000004        Universidad del Salvador   \n",
       "1  AU000019  Australian National University   \n",
       "\n",
       "                                            gen_info  \\\n",
       "0  아르헨티나의 대다수 대학교는 한국처럼 캠퍼스가 있는 것이 아니라 도시 내에 몇개의 ...   \n",
       "1  ANU has a very big campus, but unlike Yonsei, ...   \n",
       "\n",
       "                                            env_info  \\\n",
       "0  대학교가 도시 여러곳에 분포하고 있으므로 각기 다르다. 하지만 남녀를 불문하고 부에...   \n",
       "1  The city center, called CIVIC, is 20min walk a...   \n",
       "\n",
       "                                           food_info  \\\n",
       "0  기숙사는 학교에서 제공하지 않고 두가지 옵션이 주어진다. 홈스테이 혹은 게스트 하우...   \n",
       "1  There are many housing options, but I chose to...   \n",
       "\n",
       "                                          study_info  \\\n",
       "0  아르헨티나에서의 대학 수업은 주로 오전 혹은 저녁에 있다. 대부분의 학생들이 일을하...   \n",
       "1  In my personal opinions, classes are generally...   \n",
       "\n",
       "                                         office_info  \\\n",
       "0  EL SALVADOR대학교는 국제 교육부가 잘 되있는 학교이다. 아르헨티나 대학교들...   \n",
       "1  Overall, I did not have to ask for help much f...   \n",
       "\n",
       "                                          facil_info  \\\n",
       "0  부대시설로는 헬스장이 있다고 알고 있으나 시내와 먼 곳에 있었다. 동아리는 몇가지 ...   \n",
       "1  There were many clubs for you to join at ANU, ...   \n",
       "\n",
       "                                           mhct_info  \\\n",
       "0  딱히 컬쳐쇼크를 받을 만 한 요소는 없었던 것 같다. 하지만 처음에 언어적인 면에서...   \n",
       "1  I did have some culture shock during my first ...   \n",
       "\n",
       "                                           help_info  \\\n",
       "0  살바도르 대학교 국제처에서 비자문제나 숙소문제(홈스테이경우) 등은 해결해 주고, 특...   \n",
       "1  I was helped a lot, especially during the firs...   \n",
       "\n",
       "                                            etc_info  \n",
       "0                                                NaN  \n",
       "1  Overall, my stay in Australia has been nothing...  "
      ],
      "text/html": "<div>\n<style scoped>\n    .dataframe tbody tr th:only-of-type {\n        vertical-align: middle;\n    }\n\n    .dataframe tbody tr th {\n        vertical-align: top;\n    }\n\n    .dataframe thead th {\n        text-align: right;\n    }\n</style>\n<table border=\"1\" class=\"dataframe\">\n  <thead>\n    <tr style=\"text-align: right;\">\n      <th></th>\n      <th>대학코드</th>\n      <th>대학명</th>\n      <th>gen_info</th>\n      <th>env_info</th>\n      <th>food_info</th>\n      <th>study_info</th>\n      <th>office_info</th>\n      <th>facil_info</th>\n      <th>mhct_info</th>\n      <th>help_info</th>\n      <th>etc_info</th>\n    </tr>\n  </thead>\n  <tbody>\n    <tr>\n      <th>0</th>\n      <td>AR000004</td>\n      <td>Universidad del Salvador</td>\n      <td>아르헨티나의 대다수 대학교는 한국처럼 캠퍼스가 있는 것이 아니라 도시 내에 몇개의 ...</td>\n      <td>대학교가 도시 여러곳에 분포하고 있으므로 각기 다르다. 하지만 남녀를 불문하고 부에...</td>\n      <td>기숙사는 학교에서 제공하지 않고 두가지 옵션이 주어진다. 홈스테이 혹은 게스트 하우...</td>\n      <td>아르헨티나에서의 대학 수업은 주로 오전 혹은 저녁에 있다. 대부분의 학생들이 일을하...</td>\n      <td>EL SALVADOR대학교는 국제 교육부가 잘 되있는 학교이다. 아르헨티나 대학교들...</td>\n      <td>부대시설로는 헬스장이 있다고 알고 있으나 시내와 먼 곳에 있었다. 동아리는 몇가지 ...</td>\n      <td>딱히 컬쳐쇼크를 받을 만 한 요소는 없었던 것 같다. 하지만 처음에 언어적인 면에서...</td>\n      <td>살바도르 대학교 국제처에서 비자문제나 숙소문제(홈스테이경우) 등은 해결해 주고, 특...</td>\n      <td>NaN</td>\n    </tr>\n    <tr>\n      <th>1</th>\n      <td>AU000019</td>\n      <td>Australian National University</td>\n      <td>ANU has a very big campus, but unlike Yonsei, ...</td>\n      <td>The city center, called CIVIC, is 20min walk a...</td>\n      <td>There are many housing options, but I chose to...</td>\n      <td>In my personal opinions, classes are generally...</td>\n      <td>Overall, I did not have to ask for help much f...</td>\n      <td>There were many clubs for you to join at ANU, ...</td>\n      <td>I did have some culture shock during my first ...</td>\n      <td>I was helped a lot, especially during the firs...</td>\n      <td>Overall, my stay in Australia has been nothing...</td>\n    </tr>\n  </tbody>\n</table>\n</div>"
     },
     "metadata": {},
     "execution_count": 12
    }
   ],
   "source": [
    "# 위의 설정으로 간단하게 보는 df_specific\n",
    "df_specific = pd.read_csv(\"./data_wrangled/df_specific_wrangle.csv\", encoding=\"utf-8\")\n",
    "df_specific.head(2)"
   ]
  },
  {
   "cell_type": "code",
   "execution_count": 13,
   "metadata": {},
   "outputs": [
    {
     "output_type": "stream",
     "name": "stdout",
     "text": [
      "Index(['대학코드', '대학명', 'gen_info', 'env_info', 'food_info', 'study_info',\n       'office_info', 'facil_info', 'mhct_info', 'help_info', 'etc_info'],\n      dtype='object')\n(470, 11)\n"
     ]
    }
   ],
   "source": [
    "print(df_specific.columns)\n",
    "print(df_specific.shape)"
   ]
  },
  {
   "cell_type": "code",
   "execution_count": 20,
   "metadata": {},
   "outputs": [],
   "source": [
    "# pandas 설정: 각 column 별 (혹은 한 cell에서) 출력되는 글자수 제한을 없애기\n",
    "pd.set_option('display.max_colwidth', None)"
   ]
  },
  {
   "cell_type": "code",
   "execution_count": 15,
   "metadata": {},
   "outputs": [],
   "source": [
    "import re\n",
    "# removing other letters except for korean letters from the string data\n",
    "def remove_junk(str_data):\n",
    "    str_data = str_data.replace(\"\\\\\\\\n\", \"\")\n",
    "    str_data = str_data.replace(\"\\\\n\", \"\")\n",
    "    str_data = str_data.replace(\"\\n\", \"\")\n",
    "    str_data = str_data.replace(\"\\\\\", \"\")\n",
    "    str_data = str_data.replace(\"\\\\t\", \"\")\n",
    "    str_data = str_data.replace(\"NaN\", \"\")\n",
    "\n",
    "    # print(str_data) makes an error. too much of data\n",
    "    # 한글, english 빼고 전부 날리기\n",
    "    # str_data = re.sub('[^가-힣ㄱ-ㅎㅏ-ㅣa-zA-Z|0-9|.,]', ' ', str_data)\n",
    "\n",
    "    # 한글 빼고 다 날리기\n",
    "    str_data = re.sub('[^가-힣ㄱ-ㅎㅏ]', ' ', str_data)\n",
    "\n",
    "    # replace multiple spaces into single space\n",
    "    str_data = ' '.join(str_data.split())\n",
    "    return str_data\n",
    "\n",
    "def access_univ_info(dataframe, column, univ_code):\n",
    "    df_row = dataframe.loc[dataframe[\"대학코드\"] == univ_code]\n",
    "    str_univ_info = df_row[column].to_string(index=False).lstrip()\n",
    "    str_univ_info = remove_junk(str_univ_info)\n",
    "    return str_univ_info\n",
    "\n",
    "\n",
    "# removing junks only from the string data\n",
    "def remove_junk_only(str_data):\n",
    "    str_data = str_data.replace(\"\\\\\\\\n\", \"\")\n",
    "    str_data = str_data.replace(\"\\\\n\", \"\")\n",
    "    str_data = str_data.replace(\"\\n\", \"\")\n",
    "    str_data = str_data.replace(\"\\\\\", \"\")\n",
    "    str_data = str_data.replace(\"\\\\t\", \"\")\n",
    "    str_data = str_data.replace(\"NaN\", \"\")\n",
    "\n",
    "    # replace multiple spaces into single space\n",
    "    str_data = ' '.join(str_data.split())\n",
    "    return str_data\n",
    "\n",
    "# accessing university info of given column (= accessing one cell)\n",
    "def access_univ_info_raw(dataframe, column, univ_code):\n",
    "    df_row = dataframe.loc[dataframe[\"대학코드\"] == univ_code]\n",
    "    str_univ_info = df_row[column].to_string(index=False).lstrip()\n",
    "    str_univ_info = remove_junk_only(str_univ_info)\n",
    "    return str_univ_info\n",
    "\n",
    "# collecting all column values into one string\n",
    "def column_to_string(dataframe, column_name: str):\n",
    "    str_corpus = dataframe[column_name].to_string(index=False).lstrip()\n",
    "    str_corpus = remove_junk_only(str_corpus)\n",
    "    return str_corpus"
   ]
  },
  {
   "cell_type": "code",
   "execution_count": 16,
   "metadata": {},
   "outputs": [
    {
     "output_type": "execute_result",
     "data": {
      "text/plain": [
       "'코펜하겐 대학교는 자연과학캠퍼스, 인문캠퍼스 등 코펜하겐 시내 곳곳에 흩어져 있습니다. 저는 조경건축 수업을 듣기 위해 Frederiksberg 에 위치한 자연과학 캠퍼스도 다니고'"
      ]
     },
     "metadata": {},
     "execution_count": 16
    }
   ],
   "source": [
    "column_data = \"gen_info\"\n",
    "univ_code = \"DK000003\"\n",
    "str_example = access_univ_info_raw(df_specific, column_data, univ_code)\n",
    "str_example[:100]"
   ]
  },
  {
   "cell_type": "code",
   "execution_count": 21,
   "metadata": {},
   "outputs": [
    {
     "output_type": "execute_result",
     "data": {
      "text/plain": [
       "'코펜하겐 대학교는 자연과학캠퍼스, 인문캠퍼스 등 코펜하겐 시내 곳곳에 흩어져 있습니다. 저는 조경건축 수업을 듣기 위해 Frederiksberg 에 위치한 자연과학 캠퍼스도 다니고, 덴마크어 수업과 미디어커뮤니케이션학과 수업을 위해 Amager 에 위치한 캠퍼스에도 다녔습니다. 지하철을 타거나 자전거를 타면 캠퍼스끼리의 거리도 30분 이내라서 돌아다니기 정말 좋았어요. 그리고 캠퍼스 내부 디자인이 정말 깔끔하고 좋았고, 이렇게 멋진 곳이라면 저절로 학교를 다니고 공부하고 싶을 것 같았습니다. 코펜하겐 시내 자체는 그렇게 크지 않아서 자전거를 타거나 걸어다녀도 모든 게 범위 안에 있어서 좋았습니다. 일단 건물들이 6층 이하로 낮아서 탁 트인 하늘이 보이고, 개인적인 취향일 수는 있지만 오래된 건물도 철거하지 않고 조금씩 고쳐서 모습을 간직하고 있는 것이 인상깊었습니다. 그리고 다른 유럽 나라들을 여행할 때도 굉장히 편리했어요. 유럽의 많은 나라와 직항 저가항공이 있고 시간도 ... 한국의 일반적인 대학들과 달리 코펜하겐 대학교는 도시 곳곳에 소규모로 캠퍼스가 여러 군데 있어요. 저는 1학기에는 주로 사회과학대 수업이 열리는 City Campus (CSS)에서 수업을 들었고, 2학기에는 주로 인문대 수업이 열리는 South Campus (KUA)에서 수업을 들었습니다. CSS는 도심에 있는 교통 요충지 Nørreport역 근처에 있고, KUA는 최근에 개발된 Amager 지역의 Islands Brygge 역 근처에 있어요. 그리고 코펜하겐 도시 자체가 굉장히 작기 때문에 왠만한 데는 대중교통이나 자전거로 30-40분 내에 갈 수 있는 거 같아요. 공항도 Nørreport역에서 20분 걸리기 때문에 여행다니기에도 좋습니다.t기후는… 악명이 높다시피 춥고 비가 많이 내립니다 ㅠㅠ 사실 겨울에도 한국에 비하면 기온이 그리 낮은 편은 아닌데 (1년 동안 영하로 내려가는 걸 거의 못 봤어요) 여름이 지나면 해를 거의 못 보고 비도 많이 내려서 진짜 추워요. 바람... 저는'"
      ]
     },
     "metadata": {},
     "execution_count": 21
    }
   ],
   "source": [
    "str_example[:1000]"
   ]
  },
  {
   "cell_type": "code",
   "execution_count": 17,
   "metadata": {},
   "outputs": [
    {
     "output_type": "stream",
     "name": "stdout",
     "text": [
      "글자수: 4648952\n"
     ]
    },
    {
     "output_type": "execute_result",
     "data": {
      "text/plain": [
       "'아르헨티나의 대다수 대학교는 한국처럼 캠퍼스가 있는 것이 아니라 도시 내에 몇개의 건물이 대학교 건물이라서 수업에 맞는 건물로 수업을 들으러 가면 된다. 도시의 대중교통이 꽤 잘 '"
      ]
     },
     "metadata": {},
     "execution_count": 17
    }
   ],
   "source": [
    "# collecting all column values into one string\n",
    "corpus = column_to_string(df_specific, column_data)\n",
    "print(\"글자수:\", len(corpus))\n",
    "corpus[:100]"
   ]
  },
  {
   "cell_type": "code",
   "execution_count": null,
   "metadata": {},
   "outputs": [],
   "source": []
  }
 ]
}